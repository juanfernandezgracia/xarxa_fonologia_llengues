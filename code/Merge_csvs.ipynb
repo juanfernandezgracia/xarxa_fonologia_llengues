{
 "cells": [
  {
   "cell_type": "code",
   "execution_count": 1,
   "metadata": {},
   "outputs": [],
   "source": [
    "import pandas as pd\n",
    "import re\n",
    "\n",
    "# Load the provided CSV files\n",
    "fonologia_df = pd.read_csv('fonologia_with_family_genre.csv')\n",
    "world_atlas_df = pd.read_csv('World-Atlas-of-Language-Structures.csv')\n",
    "\n",
    "fonologia_df['Countries'] = 'Unknown'\n",
    "fonologia_df['Macroarea'] = 'Unknown'\n",
    "fonologia_df['Geoposition'] = 'Unknown'\n",
    "\n",
    "# Iterate over the rows of the fonologia dataframe\n",
    "\n",
    "for index, row in fonologia_df.iterrows():\n",
    "\n",
    "    # Get the name of the language\n",
    "    language_name = row['Language']\n",
    "\n",
    "    # Find the row in the world atlas dataframe that corresponds to the current language\n",
    "    atlas_row = world_atlas_df[world_atlas_df['Name'] == language_name]\n",
    "\n",
    "    # If the language is found in the world atlas dataframe\n",
    "    if len(atlas_row) > 0:\n",
    "        # Get the country, macroarea, and geoposition of the language\n",
    "        pattern = r'Entity\\[\"Country\", \"(.*?)\"\\]'\n",
    "        country = re.findall(pattern, atlas_row['Countries'].values[0])\n",
    "        macroarea = atlas_row['Macroarea'].values[0]\n",
    "        pattern = r'GeoPosition\\[{([^{}]+)}\\]'\n",
    "        geoposition = re.findall(pattern, atlas_row['GeoPosition'].values[0])\n",
    "\n",
    "        # Update the corresponding row in the fonologia dataframe\n",
    "        fonologia_df.at[index, 'Countries'] = country\n",
    "        fonologia_df.at[index, 'Macroarea'] = macroarea\n",
    "        fonologia_df.at[index, 'Geoposition'] = geoposition\n",
    "\n",
    "# Save the updated fonologia dataframe to a new CSV file\n",
    "fonologia_df.to_csv('fonologia_complete.csv', index=False)\n"
   ]
  },
  {
   "cell_type": "code",
   "execution_count": 15,
   "metadata": {},
   "outputs": [],
   "source": [
    "# Read the geoposition information from fonologia_df and paint a point in a map for each location, all locations in the same map\n",
    "\n",
    "import folium\n",
    "from folium import plugins\n",
    "import pandas as pd\n",
    "\n",
    "fonologia_df = pd.read_csv('fonologia_complete.csv')\n",
    "\n",
    "# Create a map centered at the equator\n",
    "m = folium.Map(location=[0, 0], zoom_start=2)\n",
    "\n",
    "# Iterate over the rows of the fonologia dataframe\n",
    "\n",
    "for index, row in fonologia_df.iterrows():\n",
    "    \n",
    "        # Get the geoposition of the language\n",
    "        geoposition = row['Geoposition']\n",
    "    \n",
    "        # If the geoposition is not \"Unknown\"\n",
    "        if geoposition != 'Unknown':\n",
    "            # Split the geoposition into latitude and longitude\n",
    "            latitude, longitude = geoposition[1:-1].split(',')\n",
    "    \n",
    "            # Add a marker to the map at the latitude and longitude\n",
    "            folium.Marker([float(latitude[1:]), float(longitude[:-1])], popup=row['Language']).add_to(m)\n",
    "\n",
    "# Plot the map\n",
    "\n",
    "m.save('language_location_map.html')\n",
    "\n"
   ]
  }
 ],
 "metadata": {
  "kernelspec": {
   "display_name": "nlpenv",
   "language": "python",
   "name": "python3"
  },
  "language_info": {
   "codemirror_mode": {
    "name": "ipython",
    "version": 3
   },
   "file_extension": ".py",
   "mimetype": "text/x-python",
   "name": "python",
   "nbconvert_exporter": "python",
   "pygments_lexer": "ipython3",
   "version": "3.9.18"
  }
 },
 "nbformat": 4,
 "nbformat_minor": 2
}
